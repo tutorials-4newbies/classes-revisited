{
 "cells": [
  {
   "cell_type": "markdown",
   "metadata": {},
   "source": [
    "# OOP Modeling\n",
    "\n",
    "## Object Oriented Programming by example\n",
    "--\n",
    "## Please watch this video carefully (first 2-3 minutes would suffice)"
   ]
  },
  {
   "cell_type": "code",
   "execution_count": null,
   "metadata": {},
   "outputs": [],
   "source": [
    "from IPython.lib.display import YouTubeVideo\n",
    "YouTubeVideo(\"rLl9XBg7wSs\")"
   ]
  },
  {
   "cell_type": "markdown",
   "metadata": {},
   "source": [
    "## First: ground rules\n",
    "\n",
    "* Discuss the \"rules\" of the world and write them down.\n",
    "\n",
    "* What \"actors\" are there, what \"things\"\n",
    "\n",
    "* What are the different interactions between actors and other actors and things"
   ]
  },
  {
   "cell_type": "markdown",
   "metadata": {},
   "source": [
    "### Now: Try to write a schematic class hirarechy \n",
    "\n",
    "* What common interfaces we have\n",
    "* What Composable behaviors we have here? \n",
    "* What inherits from what"
   ]
  },
  {
   "cell_type": "markdown",
   "metadata": {},
   "source": [
    "## Home work\n",
    "\n",
    "1. Build a simple game with [pygame](https://www.pygame.org/docs/) implemented with classes"
   ]
  }
 ],
 "metadata": {
  "kernelspec": {
   "display_name": "Python 3",
   "language": "python",
   "name": "python3"
  },
  "language_info": {
   "codemirror_mode": {
    "name": "ipython",
    "version": 3
   },
   "file_extension": ".py",
   "mimetype": "text/x-python",
   "name": "python",
   "nbconvert_exporter": "python",
   "pygments_lexer": "ipython3",
   "version": "3.8.1"
  }
 },
 "nbformat": 4,
 "nbformat_minor": 4
}
