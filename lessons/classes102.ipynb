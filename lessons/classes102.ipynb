{
 "cells": [
  {
   "cell_type": "markdown",
   "metadata": {},
   "source": [
    "# Classes 102"
   ]
  },
  {
   "cell_type": "markdown",
   "metadata": {},
   "source": [
    "## Last time on classes (a recap)\n",
    "\n",
    "* A Class encapsulate: **Behavior** and **Data**\n",
    "\n",
    "* A Class can be seen as a \"Blueprint\" - for creating new **objects** in a systematic way instead of dictionary based chaos\n",
    "\n",
    "* Class data is in attributes - and sometimes called members \n",
    "\n"
   ]
  },
  {
   "cell_type": "markdown",
   "metadata": {},
   "source": [
    "## Methods\n",
    "\n",
    "* Class behavior is implemented with \"functions\" on the class. They are called methods\n",
    "\n",
    "* A class is instatiated - creating instances.  the type of the class instance is the class\n",
    "\n",
    "* Classes have special built in methods in python - called dunder methods - starting with double underscore. `__method__ `.\n",
    "\n",
    "* We've met one such method: `__init__ ` which is called on every class  instantiation \n",
    "\n",
    "* Instance methods Always receive the \"instance\" of the class as the first parameter to the method - by convention it's called \"self\"\n"
   ]
  },
  {
   "cell_type": "markdown",
   "metadata": {},
   "source": [
    "## Inheritence revisited"
   ]
  },
  {
   "cell_type": "code",
   "execution_count": null,
   "metadata": {},
   "outputs": [],
   "source": [
    "class Person:\n",
    "    def __init__(self, age, first_name, last_name):\n",
    "        self.age = age\n",
    "        self.name = f'{first_name} {last_name}'\n",
    "    \n",
    "    def greet(self):\n",
    "        print(f\"Howdy {self.name}\")\n",
    "        \n",
    "\n",
    "class President(Person):\n",
    "    def __init__(self, age, first_name, last_name, catch_phrase):\n",
    "        self.age = age\n",
    "        self.name = f'{first_name} {last_name}'\n",
    "        self.catch_phrase = catch_phrase\n",
    "        self.last_name = last_name\n",
    "    \n",
    "    def greet(self):\n",
    "        print(f\"Yes Sir Mr {self.last_name}\")\n",
    "        \n",
    "#DRY\n",
    "#Don't Repeat Yourself"
   ]
  },
  {
   "cell_type": "markdown",
   "metadata": {},
   "source": [
    "## Introducing `super`\n",
    "\n",
    "### What is the problem of the code above? is it DRY enough?"
   ]
  },
  {
   "cell_type": "code",
   "execution_count": null,
   "metadata": {},
   "outputs": [],
   "source": [
    "class President(Person):\n",
    "    def __init__(self, age, first_name, last_name, catch_phrase):\n",
    "        super().__init__(age, first_name, last_name) # What happens here?\n",
    "        self.catch_phrase = catch_phrase\n",
    "        self.last_name = last_name\n",
    "        \n",
    "    \n",
    "    def greet(self):\n",
    "        print(f\"Yes Sir Mr {self.last_name}\")\n",
    "        \n"
   ]
  },
  {
   "cell_type": "markdown",
   "metadata": {},
   "source": [
    "### Note about super:\n",
    "\n",
    "`Super` can get two parameters - the subclass to check and an instance of that class\n",
    "```python\n",
    "class President(Person):\n",
    "    def __init__(self, age, first_name, last_name, catch_phrase):\n",
    "        super(President, self).__init__(age, first_name, last_name) # What happens here?\n",
    "        # Virtually the same as\n",
    "        super().__init__()\n",
    "         \n",
    "```\n",
    "You can do funky things with `super` fiddeling and multiple inheritance but this isn't a good practice"
   ]
  },
  {
   "cell_type": "markdown",
   "metadata": {},
   "source": [
    "## Class hierarchy doesn't stop with two levels, they can be much deeper "
   ]
  },
  {
   "cell_type": "code",
   "execution_count": null,
   "metadata": {},
   "outputs": [],
   "source": [
    "class Mammal:\n",
    "    def __init__(self, age):\n",
    "        self.age = age\n",
    "    \n",
    "class Person(Mammal):\n",
    "    def __init__(self, age, first_name, last_name):\n",
    "        super().__init__(age)\n",
    "        \n",
    "        self.name = f'{first_name} {last_name}'\n",
    "\n",
    "class President(Person):\n",
    "    def __init__(self, age, first_name, last_name, catch_phrase):\n",
    "        super().__init__(age, first_name, last_name) # What happens here?\n",
    "        self.last_name = last_name\n",
    "        \n",
    "    def greet(self):\n",
    "        print(f\"Yes Sir Mr {self.last_name}\")"
   ]
  },
  {
   "cell_type": "markdown",
   "metadata": {},
   "source": [
    "## Using base classes as interfaces\n",
    "\n",
    "### What is an interface actually?\n",
    "\n",
    "An **[Interface](https://en.wikipedia.org/wiki/Interface_(computing)#:~:text=In%20computing%2C%20an%20interface%20is,humans%2C%20and%20combinations%20of%20these.)** can be understood as code defining the **contract** the class must adhere to"
   ]
  },
  {
   "cell_type": "markdown",
   "metadata": {},
   "source": [
    "![Devil contract](./images/devil_contract.jpg)"
   ]
  },
  {
   "cell_type": "code",
   "execution_count": null,
   "metadata": {},
   "outputs": [],
   "source": [
    "import datetime\n",
    "\n",
    "class BaseAbstractEventInterface:\n",
    "    def serialize(self):\n",
    "        raise NotImplementedError('You should implement serialize')\n",
    "        \n",
    "    def time_since(self, start_time: datetime.datetime):\n",
    "        raise NotImplementedError()\n",
    "\n",
    "class SchoolStartedEvent(BaseAbstractEventInterface):\n",
    "    def time_since(name:str):\n",
    "        pass\n",
    "\n",
    "s = SchoolStartedEvent()\n",
    "s.serialize()"
   ]
  },
  {
   "cell_type": "markdown",
   "metadata": {},
   "source": [
    "## Why do we need interfaces?\n",
    "\n",
    "* Helping us to plan the code abstractly \n",
    "* \"Forcing\" us to implement some methods expected by the code using it\n",
    "* Helping the IDE to help us - highlighting type mismatches, and missing classes"
   ]
  },
  {
   "cell_type": "markdown",
   "metadata": {},
   "source": [
    "## Clearer modeling of reality using dunder methods overriding"
   ]
  },
  {
   "cell_type": "code",
   "execution_count": null,
   "metadata": {},
   "outputs": [],
   "source": [
    "from IPython.lib.display import YouTubeVideo\n",
    "YouTubeVideo(\"7CxT6ty6_bc\")\n",
    "# Sorry for the carnist example"
   ]
  },
  {
   "cell_type": "code",
   "execution_count": null,
   "metadata": {},
   "outputs": [],
   "source": [
    "# Consider the following class instances\n",
    "\n",
    "class Ingredient:\n",
    "    def __init__(self, name, protein: int= 0, carbs: int = 0, fats: int = 0):\n",
    "        self.name = name\n",
    "        self.protein = protein\n",
    "        self.carbs = carbs\n",
    "        self.fats = fats\n",
    "        \n",
    "    @property # note this notation\n",
    "    def nutritional_value(self):\n",
    "        return self.protein * 2 + self.carbs * 1 + self.fats * 1\n",
    "\n",
    "tehina = Ingredient(name = 'tehina', fats = 60, carbs = 10, protein = 25)\n",
    "print(tehina.nutritional_value"
   ]
  },
  {
   "cell_type": "code",
   "execution_count": null,
   "metadata": {},
   "outputs": [],
   "source": [
    "# Note Inter class interactions\n",
    "\n",
    "class Mana:\n",
    "    def __init__(self):\n",
    "        self.is_empty = True\n",
    "        self.ingredient_list = []\n",
    "    # Note I don't have to use an __init__\n",
    "    def add_ingredient(self, ingredient: Ingredient):\n",
    "        self.ingredient_list.append(ingredient)\n",
    "        self.is_empty = False\n",
    "    \n",
    "    def calculate_nutitional_value(self):\n",
    "        # what need to happen here\n",
    "        nutritional_values = [ingredient.nutritional_value() for ingredient in self.ingredient_list]\n",
    "        return sum(nutritional_values)"
   ]
  },
  {
   "cell_type": "code",
   "execution_count": null,
   "metadata": {},
   "outputs": [],
   "source": [
    "pita = Mana()\n",
    "harif = Ingredient('harif', 0, carbs=10, fats=0)\n",
    "pita.add_ingredient(tehina)\n",
    "pita.add_ingredient(harif)\n",
    "\n",
    "print(pita.calculate_nutitional_value())"
   ]
  },
  {
   "cell_type": "code",
   "execution_count": null,
   "metadata": {},
   "outputs": [],
   "source": [
    "# But this is a bit awkard, can we just add the ingredients?\n",
    "pita = Ingredient(name = 'pita', fats = 1.2, carbs = 55, protein = 9)\n",
    "\n",
    "result = tehina + harif + pita\n",
    "\n",
    "print(result)"
   ]
  },
  {
   "cell_type": "code",
   "execution_count": null,
   "metadata": {},
   "outputs": [],
   "source": [
    "# Consider the following class instances\n",
    "\n",
    "class Ingredient:\n",
    "    def __init__(self, name, protein: int= 0, carbs: int = 0, fats: int = 0):\n",
    "        self.name = name\n",
    "        self.protein = protein\n",
    "        self.carbs = carbs\n",
    "        self.fats = fats\n",
    "        \n",
    "    @property # note this notation\n",
    "    def nutritional_value(self):\n",
    "        return self.protein * 2 + self.carbs * 1 + self.fats * 1\n",
    "\n",
    "    def __add__(self, other):\n",
    "        if isinstance(other, Ingredient):\n",
    "            return self.nutritional_value + other.nutritional_value\n",
    "        else:\n",
    "            return self.nutritional_value + other\n",
    "        \n",
    "    def __radd__(self, other):\n",
    "        return self.__add__(other)"
   ]
  },
  {
   "cell_type": "code",
   "execution_count": null,
   "metadata": {
    "pycharm": {
     "name": "#%%\n"
    }
   },
   "outputs": [],
   "source": [
    "# And now we can do \n",
    "tehina = Ingredient(name = 'tehina', fats = 60, carbs = 10, protein = 25)\n",
    "\n",
    "pita = Ingredient(name = 'pita', fats = 1.2, carbs = 55, protein = 9)\n",
    "harif = Ingredient('harif', 0, carbs=10, fats=0)\n",
    "print(tehina.nutritional_value)\n",
    "print(pita.nutritional_value)\n",
    "print(harif.nutritional_value)\n",
    "\n",
    "result = tehina + pita - harif\n",
    "print(result)"
   ]
  },
  {
   "cell_type": "markdown",
   "metadata": {
    "pycharm": {
     "name": "#%% md\n"
    }
   },
   "source": [
    "## Lets try adding subtracting"
   ]
  },
  {
   "cell_type": "code",
   "execution_count": 1,
   "metadata": {
    "pycharm": {
     "name": "#%%\n"
    }
   },
   "outputs": [],
   "source": [
    "# Note this is a bit tricky because subtracting behaves differently depends on which side of the number"
   ]
  },
  {
   "cell_type": "markdown",
   "metadata": {
    "pycharm": {
     "name": "#%% md\n"
    }
   },
   "source": [
    "## Static methods \n",
    "\n",
    "### Somethings just need a place to be"
   ]
  },
  {
   "cell_type": "code",
   "execution_count": null,
   "metadata": {
    "pycharm": {
     "name": "#%%\n"
    }
   },
   "outputs": [],
   "source": [
    "# remember datatime?\n",
    "import datetime\n",
    "\n",
    "millenium = datetime.date(year=2000, month=1, day=1)\n",
    "# Lets look at an instance of datetime.datetime\n",
    "print(f\"type of millenium: {type(millenium)}\")\n",
    "\n",
    "#We can reflect on the class name also like this\n",
    "print(f\"{millenium.__class__.__name__}\")\n",
    "\n",
    "# Note the difference: this returns a \"type\" but the other one is a string"
   ]
  },
  {
   "cell_type": "markdown",
   "metadata": {
    "pycharm": {
     "name": "#%% md\n"
    }
   },
   "source": [
    "So millenium is an **instance** of the class datetime.date (the class date from the namespace datetime), but what is today()?"
   ]
  },
  {
   "cell_type": "code",
   "execution_count": null,
   "metadata": {
    "pycharm": {
     "name": "#%%\n"
    }
   },
   "outputs": [],
   "source": [
    "# what is today\n",
    "\n",
    "datetime.datetime.now()\n",
    "\n",
    "# Notice there is no instantiation of the class date"
   ]
  },
  {
   "cell_type": "code",
   "execution_count": null,
   "metadata": {
    "collapsed": false,
    "jupyter": {
     "outputs_hidden": false
    },
    "pycharm": {
     "name": "#%%\n"
    }
   },
   "outputs": [],
   "source": [
    "class Ingredient:\n",
    "    def __init__(self, name, protein: int= 0, carbs: int = 0, fats: int = 0):\n",
    "        self.name = name\n",
    "        self.protein = protein\n",
    "        self.carbs = carbs\n",
    "        self.fats = fats\n",
    "        \n",
    "    @staticmethod\n",
    "    def say_hi():\n",
    "        print('hi')\n",
    "Ingredient.say_hi()\n",
    "\n",
    "\n"
   ]
  },
  {
   "cell_type": "markdown",
   "metadata": {},
   "source": [
    "# Read More:\n",
    "\n",
    "* [Deep dive to super, multiple inheritance](https://realpython.com/python-super/)\n",
    "Recap from last week\n",
    "* Do the [notebooks](https://github.com/PythonFreeCourse/Notebooks) classes 1 and classes 2  lessons (week 7)\n",
    "Read more\n",
    "* Chapters 35-38 in [How to code in python book](https://assets.digitalocean.com/books/python/how-to-code-in-python.pdf)"
   ]
  },
  {
   "cell_type": "code",
   "execution_count": null,
   "metadata": {},
   "outputs": [],
   "source": []
  }
 ],
 "metadata": {
  "kernelspec": {
   "display_name": "Python 3",
   "language": "python",
   "name": "python3"
  },
  "language_info": {
   "codemirror_mode": {
    "name": "ipython",
    "version": 3
   },
   "file_extension": ".py",
   "mimetype": "text/x-python",
   "name": "python",
   "nbconvert_exporter": "python",
   "pygments_lexer": "ipython3",
   "version": "3.8.1"
  }
 },
 "nbformat": 4,
 "nbformat_minor": 4
}
