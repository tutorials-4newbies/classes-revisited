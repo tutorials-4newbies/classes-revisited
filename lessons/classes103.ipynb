{
 "cells": [
  {
   "cell_type": "markdown",
   "metadata": {},
   "source": [
    "# Classes 103"
   ]
  },
  {
   "cell_type": "markdown",
   "metadata": {},
   "source": [
    "## Last time on classes (a recap)\n",
    "\n",
    "* A Class encapsulate: **Behavior** and **Data**\n",
    "\n",
    "* A Class can be seen as a \"Blueprint\" - for creating new **objects** in a systematic way instead of dictionary based chaos\n",
    "\n",
    "* Class data is in attributes - and sometimes called members \n",
    "\n"
   ]
  },
  {
   "cell_type": "markdown",
   "metadata": {},
   "source": [
    "## Methods\n",
    "\n",
    "* Class behavior is implemented with \"functions\" on the class. They are called methods\n",
    "\n",
    "* A class is instatiated - creating instances.  the type of the class instance is the class\n",
    "\n",
    "* Classes have special built in methods in python - called dunder methods - starting with double underscore. `__method__ `.\n",
    "\n",
    "* We've met several method, one of them: `__init__ ` which is called on every class  instantiation \n",
    "\n",
    "* Instance methods Always receive the \"instance\" of the class as the first parameter to the method - by convention it's called \"self\"\n",
    "\n",
    "* We've also used dunder method like __sub__and __add__ to implement operator behavior for classes\n"
   ]
  },
  {
   "cell_type": "markdown",
   "metadata": {},
   "source": [
    "## Super\n",
    "\n",
    "* We discussed inheritance and how it helps to make our code DRY\n",
    "\n",
    "* We used the super() method of the class to call code implemented on the parent"
   ]
  },
  {
   "cell_type": "markdown",
   "metadata": {},
   "source": [
    "## Interfaces\n",
    "\n",
    "An **Interface** can be understood as code defining the **contract** the class must adhere to.\n",
    "\n",
    "Classes can be used to define interfaces. setting ground rules and expections\n",
    "\n"
   ]
  },
  {
   "cell_type": "markdown",
   "metadata": {},
   "source": [
    "## Static methods\n",
    "\n",
    "* We've also discussed Static methods, not bound to the instance or class, just \"being\" there. Such as date.today() or date().today() "
   ]
  },
  {
   "cell_type": "markdown",
   "metadata": {},
   "source": [
    "# We've covered some ground So now what? \n",
    "\n",
    "![SegmentLocal](./images/obama.gif \"obama\")\n"
   ]
  },
  {
   "cell_type": "markdown",
   "metadata": {},
   "source": [
    "## Sometimes we need a common world\n",
    "\n",
    "Somethings we need to share state between instances.\n",
    "\n",
    "## Enter: Class methods\n",
    "\n",
    "* define by a classmethod decorator\n",
    "* Get a cls argument as first argument\n",
    "* State is common to all instances"
   ]
  },
  {
   "cell_type": "markdown",
   "metadata": {},
   "source": [
    "## So what's the difference between class methods and static methods and instance methods?"
   ]
  },
  {
   "cell_type": "code",
   "execution_count": 24,
   "metadata": {},
   "outputs": [],
   "source": [
    "PIE = 3.14\n",
    "\n",
    "class Circle:\n",
    "    _CIRCLES = []\n",
    "    def __init__(self, radius):\n",
    "        self.r = radius\n",
    "        Circle.register_circle(self)\n",
    "        # self.register_circle(self) By convention the previous way is somewhat prefered but this is also true\n",
    "\n",
    "        \n",
    "    def area(self): # I'm  an instance method\n",
    "        return self.r * self.r * PIE\n",
    "    \n",
    "    @classmethod\n",
    "    def register_circle(cls, a_circle):\n",
    "        cls._CIRCLES.append(a_circle)\n",
    "    \n",
    "    @classmethod\n",
    "    def get_circles(cls):\n",
    "        return cls._CIRCLES\n",
    "    \n",
    "    @staticmethod\n",
    "    def calculate_circle_aread(radius):\n",
    "        return radius * radius * PIE"
   ]
  },
  {
   "cell_type": "code",
   "execution_count": 25,
   "metadata": {},
   "outputs": [
    {
     "data": {
      "text/plain": [
       "12.56"
      ]
     },
     "execution_count": 25,
     "metadata": {},
     "output_type": "execute_result"
    }
   ],
   "source": [
    "c = Circle(2)\n",
    "c.area()\n"
   ]
  },
  {
   "cell_type": "code",
   "execution_count": 22,
   "metadata": {},
   "outputs": [
    {
     "data": {
      "text/plain": [
       "[<__main__.Circle at 0x7f620b590b80>]"
      ]
     },
     "execution_count": 22,
     "metadata": {},
     "output_type": "execute_result"
    }
   ],
   "source": [
    "c.get_circles()"
   ]
  },
  {
   "cell_type": "code",
   "execution_count": 27,
   "metadata": {},
   "outputs": [
    {
     "data": {
      "text/plain": [
       "50.24"
      ]
     },
     "execution_count": 27,
     "metadata": {},
     "output_type": "execute_result"
    }
   ],
   "source": [
    "c.calculate_circle_aread(4)"
   ]
  },
  {
   "cell_type": "markdown",
   "metadata": {},
   "source": [
    "# Polymorphisem and strategy pattern\n",
    "\n",
    "## Another common use for classes is to implement the startegy pattern. allowing different behaviors "
   ]
  },
  {
   "cell_type": "code",
   "execution_count": 31,
   "metadata": {},
   "outputs": [],
   "source": [
    "class Mammal:\n",
    "    def __init__(self, name, years_ago_born):\n",
    "        self.name = name\n",
    "        self.years_ago_born = years_ago_born\n",
    "        \n",
    "    def age(self):\n",
    "        return self._resolve_age()\n",
    "    \n",
    "class Person(Mammal):\n",
    "    def _resolve_age(self):\n",
    "        return self.years_ago_born\n",
    "    \n",
    "class Dog(Mammal):\n",
    "    def _resolve_age(self):\n",
    "        return 1 * 14 + (self.years_ago_born -1) * 7\n",
    "    "
   ]
  },
  {
   "cell_type": "code",
   "execution_count": 32,
   "metadata": {},
   "outputs": [
    {
     "name": "stdout",
     "output_type": "stream",
     "text": [
      "28\n",
      "20\n"
     ]
    }
   ],
   "source": [
    "mydog = Dog('doggu', 3)\n",
    "\n",
    "person = Person('who am i', 20)\n",
    "\n",
    "print(mydog.age())\n",
    "\n",
    "print(person.age())"
   ]
  }
 ],
 "metadata": {
  "kernelspec": {
   "display_name": "Python 3",
   "language": "python",
   "name": "python3"
  },
  "language_info": {
   "codemirror_mode": {
    "name": "ipython",
    "version": 3
   },
   "file_extension": ".py",
   "mimetype": "text/x-python",
   "name": "python",
   "nbconvert_exporter": "python",
   "pygments_lexer": "ipython3",
   "version": "3.8.1"
  }
 },
 "nbformat": 4,
 "nbformat_minor": 4
}
