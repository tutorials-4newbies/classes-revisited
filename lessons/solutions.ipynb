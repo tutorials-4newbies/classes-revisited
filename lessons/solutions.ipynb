{
 "cells": [
  {
   "cell_type": "code",
   "execution_count": null,
   "metadata": {},
   "outputs": [],
   "source": []
  },
  {
   "cell_type": "code",
   "execution_count": 1,
   "metadata": {},
   "outputs": [],
   "source": [
    "# Solution to adding substraction to a class\n",
    "\n",
    "class Ingredient:\n",
    "    def __init__(self, name, protein: int= 0, carbs: int = 0, fats: int = 0):\n",
    "        self.name = name\n",
    "        self.protein = protein\n",
    "        self.carbs = carbs\n",
    "        self.fats = fats\n",
    "        \n",
    "    @property # note this notation\n",
    "    def nutritional_value(self):\n",
    "        return self.protein * 2 + self.carbs * 1 + self.fats * 1\n",
    "\n",
    "    def __add__(self, other):\n",
    "        if isinstance(other, Ingredient):\n",
    "            return self.nutritional_value + other.nutritional_value\n",
    "        else:\n",
    "            return self.nutritional_value + other\n",
    "        \n",
    "    def __sub__(self, other):\n",
    "        \n",
    "        if isinstance(other, Ingredient):\n",
    "            return self.nutritional_value - other.nutritional_value\n",
    "        else:\n",
    "            return self.nutritional_value - other\n",
    "        \n",
    "    def __rsub__(self, other): \n",
    "        if isinstance(other, Ingredient):\n",
    "            return other.nutritional_value - self.nutritional_value\n",
    "        else:\n",
    "            return other - self.nutritional_value\n",
    "    \n",
    "\n",
    "    def __radd__(self, other):\n",
    "        return self.__add__(other)"
   ]
  }
 ],
 "metadata": {
  "kernelspec": {
   "display_name": "Python 3",
   "language": "python",
   "name": "python3"
  },
  "language_info": {
   "codemirror_mode": {
    "name": "ipython",
    "version": 3
   },
   "file_extension": ".py",
   "mimetype": "text/x-python",
   "name": "python",
   "nbconvert_exporter": "python",
   "pygments_lexer": "ipython3",
   "version": "3.8.1"
  }
 },
 "nbformat": 4,
 "nbformat_minor": 4
}
