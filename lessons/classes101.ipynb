{
 "cells": [
  {
   "cell_type": "markdown",
   "metadata": {},
   "source": [
    "# Classes"
   ]
  },
  {
   "cell_type": "markdown",
   "metadata": {},
   "source": [
    "## First we had structs {}"
   ]
  },
  {
   "cell_type": "code",
   "execution_count": 3,
   "metadata": {},
   "outputs": [],
   "source": [
    "import datetime\n",
    "clinton = dict(birthday=datetime.date(year=1946, month=8, day=19), name=\"Bill\", surname='Clinton')\n",
    "Obama = dict(day_of_birth=datetime.date(year=1961, month=8, day=4), name=\"barack\", surname='Obama', was_president=True)\n",
    "Jesus = dict(age=2020, name=\"Jesus\", spouce='Maria')"
   ]
  },
  {
   "cell_type": "code",
   "execution_count": 4,
   "metadata": {},
   "outputs": [],
   "source": [
    "# Now let's try to calculate their age\n",
    "\n",
    "def calculate_age(birthday: datetime.date)-> float:\n",
    "    today = datetime.date.today()\n",
    "    since_birthday = today - birthday\n",
    "    age = since_birthday.days / 365\n",
    "    return age"
   ]
  },
  {
   "cell_type": "code",
   "execution_count": 6,
   "metadata": {},
   "outputs": [
    {
     "ename": "KeyError",
     "evalue": "'birthday'",
     "output_type": "error",
     "traceback": [
      "\u001b[0;31m---------------------------------------------------------------------------\u001b[0m",
      "\u001b[0;31mKeyError\u001b[0m                                  Traceback (most recent call last)",
      "\u001b[0;32m<ipython-input-6-323311d1e903>\u001b[0m in \u001b[0;36m<module>\u001b[0;34m\u001b[0m\n\u001b[1;32m      1\u001b[0m \u001b[0;31m# Lets try that\u001b[0m\u001b[0;34m\u001b[0m\u001b[0;34m\u001b[0m\u001b[0;34m\u001b[0m\u001b[0m\n\u001b[0;32m----> 2\u001b[0;31m \u001b[0mcalculate_age\u001b[0m\u001b[0;34m(\u001b[0m\u001b[0mObama\u001b[0m\u001b[0;34m[\u001b[0m\u001b[0;34m'birthday'\u001b[0m\u001b[0;34m]\u001b[0m\u001b[0;34m)\u001b[0m\u001b[0;34m\u001b[0m\u001b[0;34m\u001b[0m\u001b[0m\n\u001b[0m",
      "\u001b[0;31mKeyError\u001b[0m: 'birthday'"
     ]
    }
   ],
   "source": [
    "# Lets try that\n",
    "calculate_age(Obama['birthday'])"
   ]
  },
  {
   "cell_type": "markdown",
   "metadata": {},
   "source": [
    "## What problems can you spot with this? \n",
    "\n",
    "* No Structure\n",
    "\n",
    "* Not DRY (repeating logic)\n",
    "\n",
    "*We can do better*"
   ]
  },
  {
   "cell_type": "markdown",
   "metadata": {},
   "source": [
    "### Classes encapsulate together:\n",
    "\n",
    "**State (Data)** \n",
    "\n",
    "**Behavior (Actions, functions)**\n",
    "\n",
    "**Identity**"
   ]
  },
  {
   "cell_type": "code",
   "execution_count": 7,
   "metadata": {},
   "outputs": [
    {
     "name": "stdout",
     "output_type": "stream",
     "text": [
      "<__main__.Person object at 0x7f4ba05ef070>\n",
      "<class '__main__.Person'>\n",
      "139962789851248\n",
      "<class '__main__.Person'>\n",
      "139962789851872\n"
     ]
    }
   ],
   "source": [
    "# Class in action\n",
    "\n",
    "class Person:\n",
    "    pass\n",
    "\n",
    "adam = Person() # this is the class initialization, it returns an *instance of the class*  \n",
    "\n",
    "print(adam) # I'm an instance of a class \n",
    "\n",
    "print(type(adam))\n",
    "\n",
    "print(id(adam))\n",
    "\n",
    "hava = Person()\n",
    "\n",
    "print(type(hava))\n",
    "print(id(hava))\n",
    "\n",
    "# Note the ids are always different even though they look the same - it's a different *Identity*"
   ]
  },
  {
   "cell_type": "code",
   "execution_count": 8,
   "metadata": {},
   "outputs": [
    {
     "name": "stdout",
     "output_type": "stream",
     "text": [
      "6024\n"
     ]
    }
   ],
   "source": [
    "\n",
    "# We can add properties , in classes it's usually called attributes\n",
    "\n",
    "adam.age = 6024\n",
    "\n",
    "# We can also access attibutes with the dot notation.\n",
    "print(adam.age)"
   ]
  },
  {
   "cell_type": "code",
   "execution_count": 12,
   "metadata": {},
   "outputs": [
    {
     "name": "stdout",
     "output_type": "stream",
     "text": [
      "the first murder\n",
      "6024\n"
     ]
    }
   ],
   "source": [
    "# Note the difference between dicts and classes\n",
    "\n",
    "# Dicts accessed by the brackets [] notation\n",
    "hevel = {\"tag_line\":\"the first murder\"}\n",
    "print(hevel['tag_line'])\n",
    "\n",
    "# Classes by . dot notation\n",
    "print(adam.age)\n"
   ]
  },
  {
   "cell_type": "code",
   "execution_count": 13,
   "metadata": {},
   "outputs": [
    {
     "ename": "AttributeError",
     "evalue": "'Person' object has no attribute 'death'",
     "output_type": "error",
     "traceback": [
      "\u001b[0;31m---------------------------------------------------------------------------\u001b[0m",
      "\u001b[0;31mAttributeError\u001b[0m                            Traceback (most recent call last)",
      "\u001b[0;32m<ipython-input-13-abfbeaf55696>\u001b[0m in \u001b[0;36m<module>\u001b[0;34m\u001b[0m\n\u001b[0;32m----> 1\u001b[0;31m \u001b[0madam\u001b[0m\u001b[0;34m.\u001b[0m\u001b[0mdeath\u001b[0m\u001b[0;34m\u001b[0m\u001b[0;34m\u001b[0m\u001b[0m\n\u001b[0m",
      "\u001b[0;31mAttributeError\u001b[0m: 'Person' object has no attribute 'death'"
     ]
    }
   ],
   "source": [
    "adam.death"
   ]
  },
  {
   "cell_type": "code",
   "execution_count": 14,
   "metadata": {},
   "outputs": [
    {
     "name": "stdout",
     "output_type": "stream",
     "text": [
      "Didn't die yet\n"
     ]
    }
   ],
   "source": [
    "# What happens if we try to access a non existing attribute\n",
    "try:\n",
    "    print(adam.death)\n",
    "except AttributeError as e:\n",
    "    print(\"Didn't die yet\")\n",
    "\n"
   ]
  },
  {
   "cell_type": "code",
   "execution_count": 15,
   "metadata": {},
   "outputs": [
    {
     "name": "stdout",
     "output_type": "stream",
     "text": [
      "Life\n"
     ]
    }
   ],
   "source": [
    "\n",
    "# We can actually check for that\n",
    "\n",
    "if hasattr(adam ,'is_dead'):\n",
    "    print ('Death')\n",
    "else:\n",
    "    print('Life')"
   ]
  },
  {
   "cell_type": "code",
   "execution_count": 17,
   "metadata": {},
   "outputs": [
    {
     "name": "stdout",
     "output_type": "stream",
     "text": [
      "6024\n",
      "6024\n"
     ]
    },
    {
     "ename": "AttributeError",
     "evalue": "'Person' object has no attribute 'name'",
     "output_type": "error",
     "traceback": [
      "\u001b[0;31m---------------------------------------------------------------------------\u001b[0m",
      "\u001b[0;31mAttributeError\u001b[0m                            Traceback (most recent call last)",
      "\u001b[0;32m<ipython-input-17-785e0296a22a>\u001b[0m in \u001b[0;36m<module>\u001b[0;34m\u001b[0m\n\u001b[1;32m      2\u001b[0m \u001b[0mprint\u001b[0m\u001b[0;34m(\u001b[0m\u001b[0mage\u001b[0m\u001b[0;34m)\u001b[0m\u001b[0;34m\u001b[0m\u001b[0;34m\u001b[0m\u001b[0m\n\u001b[1;32m      3\u001b[0m \u001b[0;32mfor\u001b[0m \u001b[0mprop\u001b[0m \u001b[0;32min\u001b[0m \u001b[0;34m[\u001b[0m\u001b[0;34m'age'\u001b[0m\u001b[0;34m,\u001b[0m \u001b[0;34m'name'\u001b[0m\u001b[0;34m,\u001b[0m \u001b[0;34m'is_smoking'\u001b[0m\u001b[0;34m]\u001b[0m\u001b[0;34m:\u001b[0m\u001b[0;34m\u001b[0m\u001b[0;34m\u001b[0m\u001b[0m\n\u001b[0;32m----> 4\u001b[0;31m     \u001b[0mprint\u001b[0m\u001b[0;34m(\u001b[0m\u001b[0mgetattr\u001b[0m\u001b[0;34m(\u001b[0m\u001b[0madam\u001b[0m\u001b[0;34m,\u001b[0m \u001b[0mprop\u001b[0m\u001b[0;34m)\u001b[0m\u001b[0;34m)\u001b[0m\u001b[0;34m\u001b[0m\u001b[0;34m\u001b[0m\u001b[0m\n\u001b[0m",
      "\u001b[0;31mAttributeError\u001b[0m: 'Person' object has no attribute 'name'"
     ]
    }
   ],
   "source": [
    "age = getattr(adam, 'age')\n",
    "print(age)\n",
    "for prop in ['age', 'name', 'is_smoking']:\n",
    "    print(getattr(adam, prop))"
   ]
  },
  {
   "cell_type": "markdown",
   "metadata": {},
   "source": [
    "## Let's try to make this more useful\n",
    "\n",
    "And add some structure and behavior"
   ]
  },
  {
   "cell_type": "code",
   "execution_count": 20,
   "metadata": {},
   "outputs": [
    {
     "name": "stdout",
     "output_type": "stream",
     "text": [
      "Good morning president nisser\n",
      "alon nisser\n"
     ]
    }
   ],
   "source": [
    "class President:\n",
    "    def __init__(self, birthday: datetime.date, first_name, last_name):\n",
    "        self.birthday = birthday\n",
    "        self.first_name = first_name\n",
    "        self.last_name = last_name\n",
    "        self.full_name = f'{first_name} {last_name}'\n",
    "        \n",
    "    def greet(self):\n",
    "        print(f'Good morning president {self.last_name}')\n",
    "        \n",
    "p = President(datetime.date(year=1975, month=1, day=19), 'alon', 'nisser')\n",
    "p.greet()\n",
    "print(p.full_name)\n"
   ]
  },
  {
   "cell_type": "markdown",
   "metadata": {},
   "source": [
    "## Let's focus on what's going on here:\n",
    "```python\n",
    "class President:\n",
    "    def __init__(self, birthday, first_name, last_name): # This is a special method\n",
    "        # __init__ is called when the class is initialized and passed the data we pass there\n",
    "        self.birthday = birthday\n",
    "        # those are class members\n",
    "        self.first_name = first_name\n",
    "        self.last_name = last_name\n",
    "        self.full_name = f'{first_name} {last_name}'\n",
    "\n",
    "    def greet(self): # this is a method\n",
    "        # self is the first argument in every method on the class - it's the actuall class - me - self\n",
    "        print(f'Good morning president {self.last_name}')\n",
    "        # We can use the . dot notation on it to access *members* of the class\n",
    "\n",
    "```"
   ]
  },
  {
   "cell_type": "code",
   "execution_count": 24,
   "metadata": {},
   "outputs": [
    {
     "name": "stdout",
     "output_type": "stream",
     "text": [
      "<__main__.President object at 0x7fbfb96d7e20>\n",
      "Good morning president Obama\n",
      "None\n"
     ]
    }
   ],
   "source": [
    "# so instead of this mess\n",
    "Obama = dict(day_of_birth=datetime.date(year=1961, month=8, day=4), name=\"barack\", surname='Obama', was_president=True)\n",
    "\n",
    "# we can do\n",
    "\n",
    "obama = President(birthday=datetime.date(year=1961, month=8, day=4), first_name='Barack', last_name='Obama')\n",
    "print(obama)\n",
    "print(obama.greet())"
   ]
  },
  {
   "cell_type": "code",
   "execution_count": 21,
   "metadata": {},
   "outputs": [
    {
     "ename": "TypeError",
     "evalue": "__init__() got an unexpected keyword argument 'tag_line'",
     "output_type": "error",
     "traceback": [
      "\u001b[0;31m---------------------------------------------------------------------------\u001b[0m",
      "\u001b[0;31mTypeError\u001b[0m                                 Traceback (most recent call last)",
      "\u001b[0;32m<ipython-input-21-77066cbaaa8a>\u001b[0m in \u001b[0;36m<module>\u001b[0;34m\u001b[0m\n\u001b[1;32m      1\u001b[0m \u001b[0;31m# What happens if we try to pass the class something unexpected\u001b[0m\u001b[0;34m\u001b[0m\u001b[0;34m\u001b[0m\u001b[0;34m\u001b[0m\u001b[0m\n\u001b[1;32m      2\u001b[0m \u001b[0;34m\u001b[0m\u001b[0m\n\u001b[0;32m----> 3\u001b[0;31m \u001b[0mp\u001b[0m \u001b[0;34m=\u001b[0m \u001b[0mPresident\u001b[0m\u001b[0;34m(\u001b[0m\u001b[0mbirthday\u001b[0m\u001b[0;34m=\u001b[0m\u001b[0mdatetime\u001b[0m\u001b[0;34m.\u001b[0m\u001b[0mdate\u001b[0m\u001b[0;34m(\u001b[0m\u001b[0myear\u001b[0m\u001b[0;34m=\u001b[0m\u001b[0;36m1961\u001b[0m\u001b[0;34m,\u001b[0m \u001b[0mmonth\u001b[0m\u001b[0;34m=\u001b[0m\u001b[0;36m8\u001b[0m\u001b[0;34m,\u001b[0m \u001b[0mday\u001b[0m\u001b[0;34m=\u001b[0m\u001b[0;36m4\u001b[0m\u001b[0;34m)\u001b[0m\u001b[0;34m,\u001b[0m \u001b[0mfirst_name\u001b[0m\u001b[0;34m=\u001b[0m\u001b[0;34m'Barack'\u001b[0m\u001b[0;34m,\u001b[0m \u001b[0mlast_name\u001b[0m\u001b[0;34m=\u001b[0m\u001b[0;34m'Obama'\u001b[0m\u001b[0;34m,\u001b[0m \u001b[0mtag_line\u001b[0m\u001b[0;34m=\u001b[0m\u001b[0;34m'something'\u001b[0m\u001b[0;34m)\u001b[0m\u001b[0;34m\u001b[0m\u001b[0;34m\u001b[0m\u001b[0m\n\u001b[0m\u001b[1;32m      4\u001b[0m \u001b[0;34m\u001b[0m\u001b[0m\n\u001b[1;32m      5\u001b[0m \u001b[0;31m# Allowing us to force some structure\u001b[0m\u001b[0;34m\u001b[0m\u001b[0;34m\u001b[0m\u001b[0;34m\u001b[0m\u001b[0m\n",
      "\u001b[0;31mTypeError\u001b[0m: __init__() got an unexpected keyword argument 'tag_line'"
     ]
    }
   ],
   "source": [
    "# What happens if we try to pass the class something unexpected\n",
    "\n",
    "p = President(birthday=datetime.date(year=1961, month=8, day=4), first_name='Barack', last_name='Obama', tag_line='something')\n",
    "\n",
    "# Allowing us to force some structure"
   ]
  },
  {
   "cell_type": "markdown",
   "metadata": {},
   "source": [
    "## Work in small groups:\n",
    "\n",
    "* Add a method on the class President to return the age of the president\n",
    "* Add an \"optional\" tag_line argument and save it in the class (Hint optional arguments in python are set as arg_name=None)\n",
    "* Add a method to say the tag line if exists but in upper case letters, but if not just say \"not here\""
   ]
  },
  {
   "cell_type": "code",
   "execution_count": 30,
   "metadata": {},
   "outputs": [
    {
     "name": "stdout",
     "output_type": "stream",
     "text": [
      "President Barack Obama\n",
      "DEMOCRATIC\n"
     ]
    }
   ],
   "source": [
    "# We can also force how the class \"looks\" when we look at it in the debugger or print message with __repr__\n",
    "class President:\n",
    "    def __init__(self, birthday: datetime.date, first_name, last_name, party = None):\n",
    "        self.birthday = birthday\n",
    "        self.first_name = first_name\n",
    "        self.last_name = last_name\n",
    "        self.party_name = party\n",
    "        \n",
    "    def greet(self):\n",
    "        print(f'Good morning president {self.last_name}')\n",
    "        \n",
    "    def get_age(self):\n",
    "        now = datetime.date.today()\n",
    "        year_of_birth = self.birthday.year\n",
    "        age = now.year - year_of_birth\n",
    "        return age\n",
    "    \n",
    "    def party(self):\n",
    "        if self.party_name:\n",
    "            return self.party_name.upper()\n",
    "        else:\n",
    "            return \"no party\"\n",
    "        \n",
    "    def __repr__(self):\n",
    "        return f\"President {self.first_name} {self.last_name}\"\n",
    "\n",
    "obama = President(birthday=datetime.date(year=1961, month=8, day=4), first_name='Barack', last_name='Obama', party=\"democratic\")\n",
    "\n",
    "print(obama)\n",
    "print(obama.party())"
   ]
  },
  {
   "cell_type": "markdown",
   "metadata": {},
   "source": [
    "### We call the methods starting and ending with double underscore \\_\\_methodname\\_\\_ : dunder methods, and we'll discuss them further on in the lessons"
   ]
  },
  {
   "cell_type": "markdown",
   "metadata": {},
   "source": [
    "### Types: A class is also a \"type\", like it has an id, it also is an instance of \"something\" \n",
    "\n",
    "####  What classes we already bumbed into? "
   ]
  },
  {
   "cell_type": "code",
   "execution_count": 33,
   "metadata": {},
   "outputs": [
    {
     "name": "stdout",
     "output_type": "stream",
     "text": [
      "<class 'str'>\n",
      "<class 'int'>\n",
      "<class 'list'>\n",
      "<class 'dict'>\n"
     ]
    }
   ],
   "source": [
    "print(type(\"hey\"))\n",
    "\n",
    "print(type(4))\n",
    "print(type([]))\n",
    "print(type({}))\n",
    "\n",
    "\n",
    "# It's classes all the way down"
   ]
  },
  {
   "cell_type": "markdown",
   "metadata": {},
   "source": [
    "## Class level logic (for the instance)\n",
    "\n",
    "Consider the following usecase, calculate for each president the time since the declaration of independence \n",
    "\n",
    "Where should we put it?"
   ]
  },
  {
   "cell_type": "code",
   "execution_count": null,
   "metadata": {},
   "outputs": [],
   "source": [
    "# We can add it as a constant in the module\n",
    "\n",
    "INDEPENDENCE_DATE = datetime.date(year=1776, month=7, day=4)\n",
    "\n",
    "# But then it's not part of the class which is supposed to be a container for all related logic "
   ]
  },
  {
   "cell_type": "code",
   "execution_count": 34,
   "metadata": {},
   "outputs": [
    {
     "name": "stdout",
     "output_type": "stream",
     "text": [
      "67600\n"
     ]
    }
   ],
   "source": [
    "class President:\n",
    "    INDEPENDENCE_DATE = datetime.date(year=1776, month=7, day=4)\n",
    "    def __init__(self, birthday: datetime.date, first_name, last_name):\n",
    "        self.birthday = birthday\n",
    "        self.first_name = first_name\n",
    "        self.last_name = last_name\n",
    "        \n",
    "    def days_born_from_independence(self):\n",
    "        days_ago = (self.birthday -self.INDEPENDENCE_DATE).days\n",
    "        return days_ago\n",
    "obama = President(birthday=datetime.date(year=1961, month=8, day=4), first_name='Barack', last_name='Obama')\n",
    "\n",
    "print(obama.days_born_from_independence())"
   ]
  },
  {
   "cell_type": "markdown",
   "metadata": {},
   "source": [
    "## Inheritence \n",
    "\n",
    "A key concept with programming with classes (which is somewhat related to Object Oriented Programming) is inheritence"
   ]
  },
  {
   "cell_type": "markdown",
   "metadata": {},
   "source": [
    "### Let's look at those classes\n",
    "\n",
    "Is there a common pattern? \n",
    "```python\n",
    "class President:\n",
    "    def __init__(self, birthday: datetime.date, first_name:str, last_name:str):\n",
    "        self.birthday = birthday\n",
    "        self.first_name = first_name\n",
    "        self.last_name = last_name\n",
    "    \n",
    "    def greet(self):\n",
    "        print(f\"Hello Mr President {self.last_name}\")\n",
    "        \n",
    "\n",
    "class CommonPeople:\n",
    "    def __init__(self, birthday: datetime.date, first_name:str, last_name:str):\n",
    "        self.birthday = birthday\n",
    "        self.first_name = first_name\n",
    "        self.last_name = last_name\n",
    "    \n",
    "    def greet(self):\n",
    "        print(f\"Hi common people {self.first_name}\")\n",
    "```\n",
    "### Can we extract it?"
   ]
  },
  {
   "cell_type": "markdown",
   "metadata": {},
   "source": [
    "## Inheritance! \n"
   ]
  },
  {
   "cell_type": "code",
   "execution_count": 36,
   "metadata": {},
   "outputs": [
    {
     "name": "stdout",
     "output_type": "stream",
     "text": [
      "Hello Mr President Obama\n"
     ]
    }
   ],
   "source": [
    "class People: #THIS IS A BASE CLASS\n",
    "    def __init__(self, birthday: datetime.date, first_name:str, last_name:str):\n",
    "        self.birthday = birthday\n",
    "        self.first_name = first_name\n",
    "        self.last_name = last_name\n",
    "    def greet(self):\n",
    "        print(f\"Hi common people {self.first_name}\")\n",
    "\n",
    "        \n",
    "class President(People): #See how we're inherting from the base class\n",
    "    \n",
    "    def greet(self): # Only this method is overriden\n",
    "        print(f\"Hello Mr President {self.last_name}\")        \n",
    "        \n",
    "obama = President(birthday=datetime.date(year=1961, month=8, day=4), first_name='Barack', last_name='Obama')\n",
    "obama.greet()"
   ]
  },
  {
   "cell_type": "markdown",
   "metadata": {},
   "source": [
    "## Common classes in reality\n",
    "\n",
    "While  OOP (Object Oriented Programming) is a complex subject, and people have lots of opinions about it, lots of class you'll encounter in the wild are actually using lifycycle hooks (with some abstract classes and metaprogramming ) or just plain simple inheritance to handle common traits and abilities"
   ]
  },
  {
   "cell_type": "code",
   "execution_count": null,
   "metadata": {},
   "outputs": [],
   "source": []
  },
  {
   "cell_type": "code",
   "execution_count": null,
   "metadata": {},
   "outputs": [],
   "source": [
    "# This is SqlAlchemy class, let's analyse it\n",
    "\n",
    "class Cumulative(db.Model):\n",
    "    id = db.Column(db.Integer, primary_key=True)\n",
    "    date = db.Column(db.DateTime, nullable=True)\n",
    "    dead_per_day = db.Column(db.Integer, nullable=True)\n",
    "    cumulative = db.Column(db.Integer, nullable=False)\n",
    "\n",
    "    def serialize(self):\n",
    "        return {'date': datetime.strftime(self.date, '%d/%m/%Y'),\n",
    "                'day': self.dead_per_day,\n",
    "                'cumulative': self.cumulative}\n",
    "\n",
    "    def __repr__(self):\n",
    "        return '<date %r>' % self.date"
   ]
  },
  {
   "cell_type": "code",
   "execution_count": null,
   "metadata": {},
   "outputs": [],
   "source": [
    "# This is a Django Rest framework view class\n",
    "# A lot of heavy loading is done in the base classes for handling a lot of CRUD related logic\n",
    "class IssuesViewSet(mixins.ListModelMixin, GenericViewSet):\n",
    "    def get_queryset(self):\n",
    "        return Issues.objects.filter(year=2020).filter(is_active=True)\n",
    "\n",
    "    def list(self, request, city_pk=None):\n",
    "        maagalim = self.get_queryset().filter(city=city_pk, is_active=True).order_by('issue')\n",
    "        issues = set([m.issue for m in maagalim if m.issue])\n",
    "\n",
    "        return Response(list(issues))\n"
   ]
  },
  {
   "cell_type": "code",
   "execution_count": null,
   "metadata": {},
   "outputs": [],
   "source": []
  },
  {
   "cell_type": "markdown",
   "metadata": {},
   "source": [
    "# Homework\n",
    "\n",
    "* Read more about [Classes in python](https://www.geeksforgeeks.org/python-classes-and-objects/) (until encpasulation) and do the exercises \n",
    "\n",
    "* Do the [notebooks](https://github.com/PythonFreeCourse/Notebooks) classes 1 and classes 2  lessons (week 7)\n",
    "Read more\n",
    "* Chapters 35-38 in [How to code in python book](https://assets.digitalocean.com/books/python/how-to-code-in-python.pdf)"
   ]
  },
  {
   "cell_type": "markdown",
   "metadata": {},
   "source": [
    "## Class dismissed"
   ]
  }
 ],
 "metadata": {
  "kernelspec": {
   "display_name": "Python 3",
   "language": "python",
   "name": "python3"
  },
  "language_info": {
   "codemirror_mode": {
    "name": "ipython",
    "version": 3
   },
   "file_extension": ".py",
   "mimetype": "text/x-python",
   "name": "python",
   "nbconvert_exporter": "python",
   "pygments_lexer": "ipython3",
   "version": "3.8.1"
  }
 },
 "nbformat": 4,
 "nbformat_minor": 4
}
